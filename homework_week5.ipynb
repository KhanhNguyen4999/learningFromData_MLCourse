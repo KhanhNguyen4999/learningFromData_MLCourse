{
 "cells": [
  {
   "cell_type": "code",
   "execution_count": 1,
   "metadata": {},
   "outputs": [],
   "source": [
    "import numpy as np\n",
    "import matplotlib.pyplot as plt"
   ]
  },
  {
   "cell_type": "markdown",
   "metadata": {},
   "source": [
    "# Cau 1"
   ]
  },
  {
   "cell_type": "markdown",
   "metadata": {},
   "source": [
    "Theo đề bài ta có công thức:\n",
    "\n",
    "$$\\mathbb{E}_{\\mathcal{D}}[E_{in}(\\mathbf{w}_{lin})] = \\sigma^2\\left(1-\\frac{d+1}{N}\\right)$$\n",
    "\n",
    "- Với $ \\sigma = 0.1,  d = 0.8.$.  Ta tiến hành giải phương trình: $ \\sigma^2\\left(1-\\frac{d+1}{N}\\right) = 0.008 => N = 45$\n",
    "\n",
    "- Giá trị N nhỏ nhất để kì vọng $E_{in}$ lớn hơn 0.008 là 100\n"
   ]
  },
  {
   "cell_type": "markdown",
   "metadata": {},
   "source": [
    "# Câu 2"
   ]
  },
  {
   "cell_type": "code",
   "execution_count": 2,
   "metadata": {},
   "outputs": [],
   "source": [
    "X = np.random.uniform(-1, 1, (100, 2))\n",
    "w = [0.01, -1, 1]\n",
    "y = np.sign(w[0]+w[1]*X[:, 0]**2+w[2]*X[:, 1]**2 )"
   ]
  },
  {
   "cell_type": "code",
   "execution_count": 3,
   "metadata": {},
   "outputs": [
    {
     "data": {
      "text/plain": [
       "<matplotlib.legend.Legend at 0x29009f82848>"
      ]
     },
     "execution_count": 3,
     "metadata": {},
     "output_type": "execute_result"
    },
    {
     "data": {
      "image/png": "[encoded data removed]",
      "text/plain": [
       "<Figure size 720x360 with 1 Axes>"
      ]
     },
     "metadata": {
      "needs_background": "light"
     },
     "output_type": "display_data"
    }
   ],
   "source": [
    "X1 = X[y>0]\n",
    "X2 = X[y<0]\n",
    "plt.figure(figsize=(10, 5))\n",
    "plt.scatter(X1[:, 0], X1[:, 1], c=\"blue\", label = 'value = 1')\n",
    "plt.scatter(X2[:, 0], X2[:, 1], c=\"red\", label = 'value = -1')\n",
    "plt.legend()"
   ]
  },
  {
   "cell_type": "code",
   "execution_count": null,
   "metadata": {},
   "outputs": [],
   "source": []
  },
  {
   "cell_type": "markdown",
   "metadata": {},
   "source": [
    "# Cau3"
   ]
  },
  {
   "cell_type": "markdown",
   "metadata": {},
   "source": [
    "- Áp dụng kiến thức đã được học về $d_{vc}$ của mô hình phân lớp tuyến tính (Perceptron). Ta có bậc $d_{vc}$ bằng số chiều d+1.\n",
    "- Số chiều trong phép biến đổi trên là 15 => $d_{vc} = 16$ => giá trị nhỏ nhất mà lớn hơn 16 là 20"
   ]
  },
  {
   "cell_type": "markdown",
   "metadata": {},
   "source": [
    "# Cau 4"
   ]
  },
  {
   "cell_type": "markdown",
   "metadata": {},
   "source": [
    "$$ \\frac{\\partial E}{\\partial u} = 2(ue^v - 2ve^{-u})(ue^v-2ve^{-u})^{'} = 2(ue^v - 2ve^{-u})(e^v+2ve^{-u})$$"
   ]
  },
  {
   "cell_type": "markdown",
   "metadata": {},
   "source": [
    "# Cau 5"
   ]
  },
  {
   "cell_type": "code",
   "execution_count": 4,
   "metadata": {},
   "outputs": [],
   "source": [
    "def E_in(u, v):\n",
    "    return (u*np.exp(v) - 2*v*np.exp(-u))**2\n",
    "\n",
    "def derivative_u(u, v):\n",
    "    return 2*(u*np.exp(v) - 2*v*np.exp(-u))*(np.exp(v) + 2*v*np.exp(-u))\n",
    "\n",
    "def derivative_v(u, v):\n",
    "    return 2*(u*np.exp(v) - 2*v*np.exp(-u))*(u*np.exp(v) - 2*np.exp(-u))"
   ]
  },
  {
   "cell_type": "code",
   "execution_count": 5,
   "metadata": {},
   "outputs": [
    {
     "name": "stdout",
     "output_type": "stream",
     "text": [
      "10\n"
     ]
    }
   ],
   "source": [
    "N = 50\n",
    "u, v = 1, 1\n",
    "learing_rate = 0.1\n",
    "for i in range(N):\n",
    "    E = E_in(u,v)\n",
    "    if E<10**-14:\n",
    "        break\n",
    "    u_update = u - learing_rate*derivative_u(u, v)\n",
    "    v_update = v - learing_rate*derivative_v(u, v)\n",
    "    \n",
    "    u=u_update\n",
    "    v=v_update\n",
    "    \n",
    "print(i)\n"
   ]
  },
  {
   "cell_type": "markdown",
   "metadata": {},
   "source": [
    "# Cau 6"
   ]
  },
  {
   "cell_type": "code",
   "execution_count": 6,
   "metadata": {},
   "outputs": [
    {
     "name": "stdout",
     "output_type": "stream",
     "text": [
      "0.04473629039778207 0.023958714099141746\n"
     ]
    }
   ],
   "source": [
    "print(u, v)"
   ]
  },
  {
   "cell_type": "markdown",
   "metadata": {},
   "source": [
    "# Cau 7"
   ]
  },
  {
   "cell_type": "code",
   "execution_count": 7,
   "metadata": {},
   "outputs": [
    {
     "name": "stdout",
     "output_type": "stream",
     "text": [
      "0.14782952252409787\n"
     ]
    }
   ],
   "source": [
    "N = 15\n",
    "u, v = 1, 1\n",
    "learing_rate = 0.1\n",
    "for i in range(N):\n",
    "    E = E_in(u,v)\n",
    "    u = u - learing_rate*derivative_u(u, v)\n",
    "    v = v - learing_rate*derivative_v(u, v)\n",
    "    \n",
    "    \n",
    "print(E)\n"
   ]
  },
  {
   "cell_type": "markdown",
   "metadata": {},
   "source": [
    "# Cau 8"
   ]
  },
  {
   "cell_type": "code",
   "execution_count": 8,
   "metadata": {},
   "outputs": [],
   "source": [
    "import numpy as np"
   ]
  },
  {
   "cell_type": "code",
   "execution_count": 9,
   "metadata": {},
   "outputs": [],
   "source": [
    "def dataset(N, target_w):\n",
    "    \"\"\"\n",
    "    Generates a data set by generating inputs and then using target weight  generate the corresponding outputs\n",
    "    \n",
    "    Paramaters:\n",
    "    ----------\n",
    "    N: int\n",
    "       the number of examples.\n",
    "    target_w: numpy array, shape (3, 1)\n",
    "              the vector of paramaters of f\n",
    "    \n",
    "    Returns:\n",
    "    ------------\n",
    "    X: numpy array, shape(N, 3)\n",
    "       The matrix of input vectors\n",
    "    Y: numpy array, shape(N, 1)\n",
    "       The vector of outputs\n",
    "    \"\"\"\n",
    "    bad_data = True # `bad_data = True` means: data contain points on the target line \n",
    "                    # (this rarely happens, but just to be careful)\n",
    "                    # -> y's of these points = 0 (with np.sign); \n",
    "                    #    we don't want this (y's of data must be -1 or 1)\n",
    "                    # -> re-generate data until `bad_data = False`\n",
    "    while bad_data==True:\n",
    "        X = np.random.uniform(-1, 1, (N, 2))\n",
    "        X = np.hstack((np.ones((N, 1)), X))\n",
    "        Y = np.sign(X@target_w)\n",
    "        if 0 not in Y:# good data\n",
    "            bad_data = False\n",
    "            \n",
    "    return X, Y"
   ]
  },
  {
   "cell_type": "code",
   "execution_count": 10,
   "metadata": {},
   "outputs": [],
   "source": [
    "def generate_target_w():\n",
    "    \"\"\"\n",
    "    Generates target_w (the vector of parameters of f) \n",
    "    from two random, uniformly distributed points in [-1, 1] x [-1, 1].\n",
    "    \n",
    "    Returns\n",
    "    -------\n",
    "    target_w : numpy array, shape (3, 1) \n",
    "        The vector of parameters of f.\n",
    "    \"\"\"\n",
    "    # Generate two points from a uniform distribution over [-1, 1]x[-1, 1]\n",
    "    p1 = np.random.uniform(-1, 1, 2)\n",
    "    p2 = np.random.uniform(-1, 1, 2)\n",
    "    # Compute the target W from these two points\n",
    "    target_w = np.array([p1[1]*p2[0] - p1[0]*p2[1], p2[1] - p1[1], p1[0] - p2[0]]).reshape((-1, 1))\n",
    "    \n",
    "    return target_w"
   ]
  },
  {
   "cell_type": "code",
   "execution_count": 11,
   "metadata": {},
   "outputs": [],
   "source": [
    "class LogisticRegression():\n",
    "    \"\"\"\n",
    "    Logistic Regression algorithm\n",
    "    \n",
    "    Paramaters:\n",
    "    y: label corresponding to every row of X, (N, 1)\n",
    "    X: data set (N, 3)\n",
    "    w: weights (3, 1)\n",
    "    \"\"\"\n",
    "    def __init__(self):\n",
    "        pass\n",
    "    \n",
    "    def fit(self, X, Y):\n",
    "        self.X = X\n",
    "        self.Y = Y\n",
    "        \n",
    "    def run(self):\n",
    "        learing_rate = 0.01\n",
    "        X = self.X\n",
    "        Y = self.Y\n",
    "        w = np.zeros((3, 1))\n",
    "        n_epochs = 1\n",
    "        N = X.shape[0]\n",
    "        while(True):\n",
    "            rand_idxs =np.random.permutation(N)\n",
    "            w_previous = w.copy()\n",
    "            for idx in rand_idxs:\n",
    "                X_point = X[idx].reshape(-1, 3)\n",
    "                y_point = Y[idx].reshape(1, -1)\n",
    "                y_predict = 1/(1+np.exp(y_point*(X_point@w)))\n",
    "                w =  w + (learing_rate*((y_point*X_point.T)@y_predict))\n",
    "\n",
    "            n_epochs+=1\n",
    "            if np.linalg.norm(w-w_previous)<0.01:\n",
    "                return w, n_epochs"
   ]
  },
  {
   "cell_type": "code",
   "execution_count": 18,
   "metadata": {},
   "outputs": [
    {
     "name": "stdout",
     "output_type": "stream",
     "text": [
      "Wall time: 0 ns\n"
     ]
    }
   ],
   "source": [
    "%%time\n",
    "def main(num_iter = 100, n_point = 100):\n",
    "    avg_E_out = 0\n",
    "    avg_epochs = 0\n",
    "    for i in range(num_iter):\n",
    "        target_w = generate_target_w()\n",
    "        X, y = dataset(n_point, target_w)\n",
    "        logistic = LogisticRegression()\n",
    "        logistic.fit(X, y)\n",
    "        w, n_epochs = logistic.run()\n",
    "\n",
    "        #E_out\n",
    "        X_test, y_test = dataset(n_point, target_w)\n",
    "        E_out = np.mean(np.log(1+np.exp(-y_test*(X_test@w))), axis = 0)\n",
    "        \n",
    "        avg_E_out+=E_out[0]/num_iter\n",
    "        avg_epochs+= n_epochs/num_iter \n",
    "    \n",
    "    print(\"E_out:\", avg_E_out)\n",
    "    print(\"The number of iterations:\", avg_epochs)    "
   ]
  },
  {
   "cell_type": "code",
   "execution_count": 19,
   "metadata": {},
   "outputs": [
    {
     "name": "stdout",
     "output_type": "stream",
     "text": [
      "E_out: 0.09661314634080506\n",
      "The number of iterations: 343.62999999999994\n",
      "Wall time: 39.1 s\n"
     ]
    }
   ],
   "source": [
    "%%time\n",
    "main(100, 100)"
   ]
  },
  {
   "cell_type": "markdown",
   "metadata": {},
   "source": [
    "# Cau 10"
   ]
  },
  {
   "cell_type": "markdown",
   "metadata": {},
   "source": [
    "- Với PLA:\n",
    "    - Với mẫu $\\left(\\mathbf{x}^{(n)}, y^{(n)}\\right)$ được phân lớp đúng thì $\\mathbf{w}$ không thay đổi.\n",
    "    - Với mẫu $\\left(\\mathbf{x}^{(n)}, y^{(n)}\\right)$ bị phân lớp sai thì cập nhật: $\\mathbf{w} \\leftarrow \\mathbf{w} + y^{(n)}\\mathbf{x}^{(n)}$.\n",
    "    \n",
    "- Với SGD: \n",
    "    - với mỗi mẫu $\\left(\\mathbf{x}^{(n)}, y^{(n)}\\right)$ thì đều cập nhật $\\mathbf{w} \\leftarrow \\mathbf{w} - \\alpha \\times \\mathbf{\\nabla_wE_{in}}$.\n",
    "    \n",
    "- Ở đây mục tiêu là ta tìm 1 hàm lỗi để có xem PLA như là SGD.\n",
    "    - Với PLA thì ta có thể xem learning rate bằng 1. Vậy có thể xem PLA như SGD khi $-\\mathbf{\\nabla_wE_{in}} = y^{(n)}\\mathbf{x}^{(n)}$ => Ta có $ E_{in} = -y_n\\mathbf{w}^T\\mathbf{x}_{n} $\n",
    "    - Với SGD ta phải duyệt qua hết tất cả các điểm, bất chấp điểm đó có bị phân lớp sai hay không nếu xét theo PLA. Một điểm được gọi là phân lớp sai khi giá trị thực tế khác với giá trị dự đoán hay tích của chúng <0 (-1\\*1<0 or 1\\*-1<0). Vậy thuật toán PLA chỉ cập nhật lại w với những điểm bị phân lớp sai, và giữ nguyên w ở những điểm phân lớp đúng. => Nếu $ y_n\\mathbf{w}^T\\mathbf{x}_{n} $ >0 thì là phân lớp đúng và không cập nhật lại w ( ${w}^T\\mathbf{x}_{n}$ là giá trị dự đoán )\n",
    "    \n",
    "        - => Hàm độ lỗi để PLA như là SGD là $$-min(0, y_n\\mathbf{w}^T\\mathbf{x}_{n} )$$"
   ]
  },
  {
   "cell_type": "code",
   "execution_count": null,
   "metadata": {},
   "outputs": [],
   "source": []
  }
 ],
 "metadata": {
  "kernelspec": {
   "display_name": "Python 3",
   "language": "python",
   "name": "python3"
  },
  "language_info": {
   "codemirror_mode": {
    "name": "ipython",
    "version": 3
   },
   "file_extension": ".py",
   "mimetype": "text/x-python",
   "name": "python",
   "nbconvert_exporter": "python",
   "pygments_lexer": "ipython3",
   "version": "3.7.6"
  },
  "toc": {
   "base_numbering": 1,
   "nav_menu": {},
   "number_sections": false,
   "sideBar": true,
   "skip_h1_title": false,
   "title_cell": "Table of Contents",
   "title_sidebar": "Contents",
   "toc_cell": false,
   "toc_position": {},
   "toc_section_display": true,
   "toc_window_display": true
  }
 },
 "nbformat": 4,
 "nbformat_minor": 4
}
