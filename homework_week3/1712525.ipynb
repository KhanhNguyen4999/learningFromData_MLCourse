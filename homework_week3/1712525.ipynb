{
 "cells": [
  {
   "cell_type": "code",
   "execution_count": 17,
   "metadata": {},
   "outputs": [],
   "source": [
    "import numpy as np\n",
    "import matplotlib.pyplot as plt"
   ]
  },
  {
   "cell_type": "markdown",
   "metadata": {},
   "source": [
    "# Câu 1"
   ]
  },
  {
   "cell_type": "markdown",
   "metadata": {},
   "source": [
    "$ 2Me^{-2\\epsilon^2N} = 0.03$\n",
    "\n",
    "--> $ N = \\frac{\\log_{e}\\frac{0.03}{2M}}{-2\\epsilon^2} (*) $\n",
    " "
   ]
  },
  {
   "cell_type": "code",
   "execution_count": 3,
   "metadata": {},
   "outputs": [
    {
     "data": {
      "text/plain": [
       "839.9410155759853"
      ]
     },
     "execution_count": 3,
     "metadata": {},
     "output_type": "execute_result"
    }
   ],
   "source": [
    "np.log(0.03/2)/(-2*0.05**2)"
   ]
  },
  {
   "cell_type": "markdown",
   "metadata": {},
   "source": [
    "# Câu 2"
   ]
  },
  {
   "cell_type": "markdown",
   "metadata": {},
   "source": [
    "- Áp dụng công thức (*) ở câu 1 với M=10 => N = 1300"
   ]
  },
  {
   "cell_type": "code",
   "execution_count": 5,
   "metadata": {},
   "outputs": [
    {
     "data": {
      "text/plain": [
       "1300.4580341747942"
      ]
     },
     "execution_count": 5,
     "metadata": {},
     "output_type": "execute_result"
    }
   ],
   "source": [
    "np.log(0.03/20)/(-2*0.05**2)"
   ]
  },
  {
   "cell_type": "markdown",
   "metadata": {},
   "source": [
    "# Câu 3\n",
    "- Áp dụng công thức (*) ở câu 1 với M=100 "
   ]
  },
  {
   "cell_type": "code",
   "execution_count": 6,
   "metadata": {},
   "outputs": [
    {
     "data": {
      "text/plain": [
       "1760.9750527736032"
      ]
     },
     "execution_count": 6,
     "metadata": {},
     "output_type": "execute_result"
    }
   ],
   "source": [
    "np.log(0.03/200)/(-2*0.05**2)"
   ]
  },
  {
   "cell_type": "markdown",
   "metadata": {},
   "source": [
    "# Câu 4"
   ]
  },
  {
   "cell_type": "code",
   "execution_count": 11,
   "metadata": {},
   "outputs": [],
   "source": [
    "import itertools\n",
    "lst = list(itertools.product([0, 1], repeat=4))\n"
   ]
  },
  {
   "cell_type": "code",
   "execution_count": 108,
   "metadata": {},
   "outputs": [],
   "source": [
    "X=np.array([3, 3.5, 5, 6])\n",
    "Y=np.array([2, 4, 2.5, 4.7])"
   ]
  },
  {
   "cell_type": "code",
   "execution_count": 117,
   "metadata": {},
   "outputs": [
    {
     "data": {
      "image/png": "[encoded data removed]",
      "text/plain": [
       "<Figure size 720x720 with 16 Axes>"
      ]
     },
     "metadata": {},
     "output_type": "display_data"
    }
   ],
   "source": [
    "fig, axes = plt.subplots(4,4, figsize=(10,10))\n",
    "#fig.subplots_adjust(top=0.7,bottom=0.3, right = 2)\n",
    "\n",
    "for i, list in enumerate(lst):\n",
    "    a = np.array(list)\n",
    "    X1, Y1 = X[a==0], Y[a==0]\n",
    "    X2, Y2 = X[a==1], Y[a==1]\n",
    "    \n",
    "    k = i//4\n",
    "    j = i%4\n",
    "    axes[k,j].scatter(X1, Y1, c=\"b\")\n",
    "    axes[k,j].scatter(X2, Y2, c=\"r\")\n",
    "    axes[k,j].set_ylim(1, 6)\n",
    "    axes[k,j].set_xlim(2, 7)\n",
    "    axes[k,j].set_xticks([])\n",
    "    axes[k,j].set_yticks([])\n",
    "\n"
   ]
  },
  {
   "cell_type": "markdown",
   "metadata": {},
   "source": [
    "# Câu 5 "
   ]
  },
  {
   "cell_type": "markdown",
   "metadata": {},
   "source": [
    "- Tìm công thức có thể có của 1 hàm tăng trưởng:\n",
    "\n",
    "    + i) Là công thức chặn trên của hàm tăng trưởng với break point k =2, tương ứng là đa thức bậc 1 => phù hợp, ví dụ trường hợp với tập giả thiết ở positive rays.\n",
    "    + ii) Là công thức của hàm tăng trưởng với break point k=3, tương ứng là đa thức bậc 2 => phù hợp, ví trụ nó là công thức chặn trên trong trường hợp với tập giả thuyết là Positive intervals\n",
    "    + iii) Theo công thức chứng minh hàm tăng trưởng là 1 đa thức đã học thì số chạy i trong sigma phải bắt đầu từ 0, mới bao gồm được trường hợp với ứng với k = 1 với mọi N chỉ có duy nhất 1 dichotomy. => Không phù hợp\n",
    "    + iV) Công thức của hàm tăng trưởng với không có break point k là 1 hàm $2^N$, nên không tồn tại chặn trên trong trường hợp không có break point k thỏa công thức $2^{n-1}$ => Không phù hợp.\n",
    "    + V) Đây là công thức chặn trên trong trường hợp không tồn tại break point thì số dichotomies tối đa là $2^N$\n",
    "    \n",
    "    \n",
    "- => Chọn câu b"
   ]
  },
  {
   "cell_type": "markdown",
   "metadata": {},
   "source": [
    "# Câu 6"
   ]
  },
  {
   "cell_type": "markdown",
   "metadata": {},
   "source": [
    "- Tập hypothesis này sẽ không biểu diễn được ở trường hợp với 3 vùng +, xen giữa là các vùng trừ. Số điểm nhỏ nhất để thể hiện trường hợp này là 5: + - + - +\n",
    "\n",
    "--> Do đó break point k nhỏ nhất trong trường hợp này là 5"
   ]
  },
  {
   "cell_type": "markdown",
   "metadata": {},
   "source": [
    "# Câu 7"
   ]
  },
  {
   "cell_type": "markdown",
   "metadata": {},
   "source": [
    "Đặt N điểm dữ liệu trong không gian 1 chiều sao cho không có điểm nào trùng nhau -> Có N+1 vùng.\n",
    "Với 2-intervals ta xét các trường hợp có thể:\n",
    "    \n",
    "   - TH1: Với mỗi interval chọn 2 khoảng bất kì( tạo thành 1 vùng + bên trong 2 khoảng đó), và 2 điểm bất kì này chỉ thuộc vào 1 vùng => chỉ có thể tạo được duy nhất 1 dichotomy.\n",
    "    - TH2: Chỉ tồn tại một khoảng cộng.\n",
    "            \n",
    "         + Với mỗi interval chọn 2 khoảng bất kì, và 2 khoảng này bị overlap hết. Tức là 2 interval giờ chỉ tương đương 1 interval thì sẽ có $C^2_N$. Với mỗi interval chọn 2 khoảng bất kì, và chỉ bị overlap ở 1 khoảng thôi, tức là mỗi interval được tạo bởi 2 khoảng thì lúc này cả 2 interval dùng chung 1 khoảng. Tương đương với việc 2 khoảng cộng liên tiếp nhau có thể coi như 1 khoảng cộng và cũng thuộc về tập $C^2_N$. => Việc tồn tại 1 khoảng cộng với 2 interval tương đương với chọn $C^2_N$.\n",
    "     \n",
    "   - TH3: Tồn tại 2 khoảng cộng\n",
    "        + Với mỗi interval chọn 2 khoảng bất kì, tương đương với chọn 4 khoảng trong n+1 khoảng. => Số trường hợp là $C^4_N$\n",
    "    "
   ]
  },
  {
   "cell_type": "markdown",
   "metadata": {},
   "source": []
  },
  {
   "cell_type": "markdown",
   "metadata": {},
   "source": [
    "# Câu 8"
   ]
  },
  {
   "cell_type": "markdown",
   "metadata": {},
   "source": [
    "Như cách lập luận ở câu 6 thì với 1 interval thì chỉ tồn tại 1 khoảng + ( nằm bên trong interval ) và với M interval thì tồn tại M khoảng cộng. Và chỉ bị break point khi tồn tại nhiều hơn M khoảng cộng, lúc này sẽ có những khoảng trừ xen kẽ khoảng cộng. Ví dụ + - + - + , với ví dụ này thì chỉ có 2 khoảng interval tương ứng với 2 khoảng cộng nhưng tồn tại đến 3 khoảng cộng bằng với M+1 khoảng cộng với M khoảng trừ.\n",
    "\n",
    "=> Số break point k nhỏ nhất là trường hợp 2M+1 với M là số interval."
   ]
  },
  {
   "cell_type": "markdown",
   "metadata": {},
   "source": [
    "# Câu 9"
   ]
  },
  {
   "cell_type": "markdown",
   "metadata": {},
   "source": [
    "Ta đặt các điểm theo hình tròn để có thể tạo được nhiều dichotomy nhất. Ta thử lần lượt với N tăng dần, và kiểm tra trường hợp khó nhất là các điểm +, - nằm xen kẽ nhau trên đường tròn, nên nếu nó có thể tạo được dichotomy này thì sẽ tạo được những dicchotomy còn lại. Mặt khác 1 đường tròn giao với tam giác ở 6 điểm => có thể chứa tối đa 3 vùng cộng trên đường tròn.\n",
    "\n",
    "- Xét trường hợp N = 7: thì có thể tạo được tối đa 3 vùng +  => bị shattered\n",
    "- Xét trường hợp N = 8: Thì có thể tạo được tối đa 4 vùng +,  không thể tạo được tất cả các dichotomy => bị break point "
   ]
  },
  {
   "cell_type": "markdown",
   "metadata": {},
   "source": [
    "Trực quan bằng hình vẽ:\n",
    " Với các điểm to xanh tương ứng với dấu +, mang giá trị +1 là các điểm nằm bên tam giác và các điểm màu đỏ thì ngược lại.\n",
    " \n",
    "![n_1](./picture/n_1.PNG) \n",
    "![n_3](./picture/n_3.PNG) \n",
    "![n_5](./picture/n_5.PNG) \n",
    "![n_7](./picture/n_7.PNG) "
   ]
  },
  {
   "cell_type": "markdown",
   "metadata": {},
   "source": [
    "Trường hợp 8 điểm bị bị break point do không thể tạo được 4 vùng +.\n",
    "![n_8](./picture/n_8.PNG) "
   ]
  },
  {
   "cell_type": "code",
   "execution_count": null,
   "metadata": {},
   "outputs": [],
   "source": []
  }
 ],
 "metadata": {
  "kernelspec": {
   "display_name": "Python 3",
   "language": "python",
   "name": "python3"
  },
  "language_info": {
   "codemirror_mode": {
    "name": "ipython",
    "version": 3
   },
   "file_extension": ".py",
   "mimetype": "text/x-python",
   "name": "python",
   "nbconvert_exporter": "python",
   "pygments_lexer": "ipython3",
   "version": "3.7.6"
  }
 },
 "nbformat": 4,
 "nbformat_minor": 4
}
