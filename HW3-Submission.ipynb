{
 "cells": [
  {
   "cell_type": "markdown",
   "metadata": {},
   "source": [
    "# Bài tập 3\n",
    "\n",
    "Nguyễn Ngọc Minh Khánh - 1712525"
   ]
  },
  {
   "cell_type": "code",
   "execution_count": 1,
   "metadata": {},
   "outputs": [],
   "source": [
    "import numpy as np\n",
    "import matplotlib.pyplot as plt"
   ]
  },
  {
   "cell_type": "markdown",
   "metadata": {},
   "source": [
    "## Câu 1 (1 điểm)"
   ]
  },
  {
   "cell_type": "markdown",
   "metadata": {},
   "source": [
    "$ 2Me^{-2\\epsilon^2N} = 0.03$\n",
    "\n",
    "--> $ N = \\frac{\\log_{e}\\frac{0.03}{2M}}{-2\\epsilon^2} (*) $"
   ]
  },
  {
   "cell_type": "code",
   "execution_count": 2,
   "metadata": {},
   "outputs": [
    {
     "data": {
      "text/plain": [
       "839.9410155759853"
      ]
     },
     "execution_count": 2,
     "metadata": {},
     "output_type": "execute_result"
    }
   ],
   "source": [
    "np.log(0.03/2)/(-2*0.05**2)"
   ]
  },
  {
   "cell_type": "markdown",
   "metadata": {
    "deletable": false,
    "nbgrader": {
     "cell_type": "markdown",
     "checksum": "2e83d862b3c5fd4fb57d72c50e8115f8",
     "grade": true,
     "grade_id": "c1",
     "locked": false,
     "points": 1,
     "schema_version": 3,
     "solution": true,
     "task": false
    }
   },
   "source": [
    "YOUR ANSWER HERE\n",
    "- Do đó em chọn đáp án [b]"
   ]
  },
  {
   "cell_type": "markdown",
   "metadata": {},
   "source": [
    "## Câu 2 (1 điểm)"
   ]
  },
  {
   "cell_type": "markdown",
   "metadata": {},
   "source": [
    "- Áp dụng công thức (*) ở câu 1 với M=10 => N = 1300"
   ]
  },
  {
   "cell_type": "code",
   "execution_count": 3,
   "metadata": {},
   "outputs": [
    {
     "data": {
      "text/plain": [
       "1300.4580341747942"
      ]
     },
     "execution_count": 3,
     "metadata": {},
     "output_type": "execute_result"
    }
   ],
   "source": [
    "np.log(0.03/20)/(-2*0.05**2)"
   ]
  },
  {
   "cell_type": "markdown",
   "metadata": {
    "deletable": false,
    "nbgrader": {
     "cell_type": "markdown",
     "checksum": "47d4e2bb3e4812ef7b37e032a898cfec",
     "grade": true,
     "grade_id": "c2",
     "locked": false,
     "points": 1,
     "schema_version": 3,
     "solution": true,
     "task": false
    }
   },
   "source": [
    "YOUR ANSWER HERE\n",
    "- Do đó em chọn đáp án [c]"
   ]
  },
  {
   "cell_type": "markdown",
   "metadata": {},
   "source": [
    "## Câu 3 (1 điểm)"
   ]
  },
  {
   "cell_type": "markdown",
   "metadata": {},
   "source": [
    "- Áp dụng công thức (*) ở câu 1 với M=100 "
   ]
  },
  {
   "cell_type": "code",
   "execution_count": 4,
   "metadata": {},
   "outputs": [
    {
     "data": {
      "text/plain": [
       "1760.9750527736032"
      ]
     },
     "execution_count": 4,
     "metadata": {},
     "output_type": "execute_result"
    }
   ],
   "source": [
    "np.log(0.03/200)/(-2*0.05**2)"
   ]
  },
  {
   "cell_type": "markdown",
   "metadata": {
    "deletable": false,
    "nbgrader": {
     "cell_type": "markdown",
     "checksum": "0997a909d9ab1f250c2bfd0645fee970",
     "grade": true,
     "grade_id": "c3",
     "locked": false,
     "points": 1,
     "schema_version": 3,
     "solution": true,
     "task": false
    }
   },
   "source": [
    "YOUR ANSWER HERE\n",
    "- Do đó em chọn đáp án [d]"
   ]
  },
  {
   "cell_type": "markdown",
   "metadata": {},
   "source": [
    "## Câu 4 (1 điểm)"
   ]
  },
  {
   "cell_type": "markdown",
   "metadata": {},
   "source": [
    "- Thep như giả thuyết đã được chứng minh, ta có $d_{vc}$ = d+1 với d là số chiều, và cũng bằng break point k - 1.\n",
    "--> Suy ra với số chiều là 3 thì $d_{vc}$ = 4 và break point k=5"
   ]
  },
  {
   "cell_type": "markdown",
   "metadata": {
    "deletable": false,
    "nbgrader": {
     "cell_type": "markdown",
     "checksum": "efabab5c4035a6864ac8cb3e0061c6f0",
     "grade": true,
     "grade_id": "c4",
     "locked": false,
     "points": 1,
     "schema_version": 3,
     "solution": true,
     "task": false
    }
   },
   "source": [
    "YOUR ANSWER HERE\n",
    "- Do đó em chọn đáp án [b]"
   ]
  },
  {
   "cell_type": "markdown",
   "metadata": {},
   "source": [
    "## Câu 5 (1 điểm)"
   ]
  },
  {
   "cell_type": "markdown",
   "metadata": {},
   "source": [
    "- Tìm công thức có thể có của 1 hàm tăng trưởng:\n",
    "\n",
    "    + i) Là công thức chặn trên của hàm tăng trưởng với break point k =2, tương ứng là đa thức bậc 1 => phù hợp, ví dụ trường hợp với tập giả thiết ở positive rays.\n",
    "    + ii) Là công thức của hàm tăng trưởng với break point k=3, tương ứng là đa thức bậc 2 => phù hợp, ví dụ nó là công thức chặn trên trong trường hợp với tập giả thuyết là Positive intervals\n",
    "    + iii) Theo công thức chứng minh hàm tăng trưởng là 1 đa thức đã học thì số chạy i trong sigma phải bắt đầu từ 0, mới bao gồm được trường hợp với ứng với k = 1 với mọi N chỉ có duy nhất 1 dichotomy. => Không phù hợp\n",
    "    + iV) Công thức của hàm tăng trưởng với không có break point k là 1 hàm $2^N$, nên không tồn tại chặn trên trong trường hợp không có break point k thỏa công thức $2^{n-1}$ => Không phù hợp.\n",
    "    + V) Đây là công thức chặn trên trong trường hợp không tồn tại break point thì số dichotomies tối đa là $2^N$"
   ]
  },
  {
   "cell_type": "markdown",
   "metadata": {
    "deletable": false,
    "nbgrader": {
     "cell_type": "markdown",
     "checksum": "0b484b8390bec96142e8a1213ee8cd2c",
     "grade": true,
     "grade_id": "c5",
     "locked": false,
     "points": 1,
     "schema_version": 3,
     "solution": true,
     "task": false
    }
   },
   "source": [
    "YOUR ANSWER HERE\n",
    "- Do đó em chọn đáp án [b]"
   ]
  },
  {
   "cell_type": "markdown",
   "metadata": {},
   "source": [
    "## Câu 6 (1 điểm)"
   ]
  },
  {
   "cell_type": "markdown",
   "metadata": {},
   "source": [
    "- Tập hypothesis này sẽ không biểu diễn được ở trường hợp với 3 vùng +, xen giữa là các vùng trừ. Số điểm nhỏ nhất để thể hiện trường hợp này là 5: + - + - +\n",
    "\n",
    "--> Do đó break point k nhỏ nhất trong trường hợp này là 5"
   ]
  },
  {
   "cell_type": "markdown",
   "metadata": {
    "deletable": false,
    "nbgrader": {
     "cell_type": "markdown",
     "checksum": "26f542221236fb24d0ddbee584eed7d0",
     "grade": true,
     "grade_id": "c6",
     "locked": false,
     "points": 1,
     "schema_version": 3,
     "solution": true,
     "task": false
    }
   },
   "source": [
    "YOUR ANSWER HERE\n",
    "- Do đó em chọn đáp án [c]"
   ]
  },
  {
   "cell_type": "markdown",
   "metadata": {},
   "source": [
    "## Câu 7 (1 điểm)"
   ]
  },
  {
   "cell_type": "markdown",
   "metadata": {},
   "source": [
    "Đặt N điểm dữ liệu trong không gian 1 chiều sao cho không có điểm nào trùng nhau -> Có N+1 vùng.\n",
    "Với 2-intervals ta xét các trường hợp có thể:\n",
    "    \n",
    "   - TH1: Với mỗi interval chọn 2 khoảng bất kì( tạo thành 1 vùng + bên trong 2 khoảng đó), và 2 điểm bất kì này chỉ thuộc vào 1 vùng => chỉ có thể tạo được duy nhất 1 dichotomy.\n",
    "    \n",
    "   - TH2: Chỉ tồn tại một khoảng cộng.\n",
    "            \n",
    "        + Với mỗi interval chọn 2 khoảng bất kì, và 2 khoảng này bị trùng lắp hết. Tức là 2 interval giờ chỉ tương đương 1 interval thì sẽ có $C^2_N$.Ngoài ra còn trường hợp, với mỗi interval chọn 2 khoảng bất kì, và chỉ bị trùng lắp ở 1 khoảng thôi, tức là mỗi interval được tạo bởi 2 khoảng thì lúc này cả 2 interval dùng chung 1 khoảng. Tương đương với việc 2 khoảng cộng liên tiếp nhau có thể coi như 1 khoảng cộng và cũng thuộc về tập $C^2_N$. => Việc tồn tại 1 khoảng cộng với 2 interval tương đương với chọn $C^2_N$.\n",
    "     \n",
    "   - TH3: Tồn tại 2 khoảng cộng\n",
    "        + Với mỗi interval chọn 2 khoảng bất kì, tương đương với chọn 4 khoảng trong n+1 khoảng. => Số trường hợp là $C^4_N$"
   ]
  },
  {
   "cell_type": "markdown",
   "metadata": {
    "deletable": false,
    "nbgrader": {
     "cell_type": "markdown",
     "checksum": "322a244b0fae3a20ec568a5099aaaec1",
     "grade": true,
     "grade_id": "c7",
     "locked": false,
     "points": 1,
     "schema_version": 3,
     "solution": true,
     "task": false
    }
   },
   "source": [
    "YOUR ANSWER HERE\n",
    "- Do đó em chọn đáp án [c]"
   ]
  },
  {
   "cell_type": "markdown",
   "metadata": {},
   "source": [
    "## Câu 8 (1 điểm)"
   ]
  },
  {
   "cell_type": "markdown",
   "metadata": {},
   "source": [
    "Như cách lập luận ở câu 6 thì với 1 interval thì chỉ tồn tại 1 khoảng + ( nằm bên trong interval ) và với M interval thì tồn tại M khoảng cộng. Và chỉ bị break point khi tồn tại nhiều hơn M khoảng cộng, lúc này sẽ có những khoảng trừ xen kẽ khoảng cộng. Ví dụ + - + - + , với ví dụ này thì chỉ có 2 khoảng interval tương ứng với 2 khoảng cộng nhưng tồn tại đến 3 khoảng cộng bằng với M+1 khoảng cộng với M khoảng trừ.\n",
    "\n",
    "=> Số break point k nhỏ nhất là trường hợp 2M+1 với M là số interval."
   ]
  },
  {
   "cell_type": "markdown",
   "metadata": {
    "deletable": false,
    "nbgrader": {
     "cell_type": "markdown",
     "checksum": "d81773f072cd15e4a27b6cd240a5d990",
     "grade": true,
     "grade_id": "c8",
     "locked": false,
     "points": 1,
     "schema_version": 3,
     "solution": true,
     "task": false
    }
   },
   "source": [
    "YOUR ANSWER HERE\n",
    "- Do đó em chọn đáp án [d]"
   ]
  },
  {
   "cell_type": "markdown",
   "metadata": {},
   "source": [
    "## Câu 9 (1 điểm)"
   ]
  },
  {
   "cell_type": "markdown",
   "metadata": {},
   "source": [
    "Ta đặt các điểm theo hình tròn để có thể tạo được nhiều dichotomy nhất. Ta thử lần lượt với N tăng dần, và kiểm tra trường hợp khó nhất là các điểm +, - nằm xen kẽ nhau trên đường tròn, nên nếu nó có thể tạo được dichotomy này thì sẽ tạo được những dicchotomy còn lại. Mặt khác 1 đường tròn giao với tam giác ở 6 điểm => có thể chứa tối đa 3 vùng cộng trên đường tròn.\n",
    "\n",
    "- Xét trường hợp N = 7: thì có thể tạo được tối đa 3 vùng +  => bị shattered\n",
    "- Xét trường hợp N = 8: Thì có thể tạo được tối đa 4 vùng +,  không thể tạo được tất cả các dichotomy => bị break point "
   ]
  },
  {
   "cell_type": "markdown",
   "metadata": {},
   "source": [
    "Trực quan bằng hình vẽ:\n",
    " Với các điểm to xanh tương ứng với dấu +, mang giá trị +1 là các điểm nằm bên tam giác và các điểm màu đỏ thì ngược lại."
   ]
  },
  {
   "cell_type": "code",
   "execution_count": 5,
   "metadata": {},
   "outputs": [
    {
     "data": {
      "text/html": [
       "<img src=\"https://drive.google.com/uc?export=download&id=1WiEvu6AhyYeE7uJvpcANCHQ8jqHoXpwi\"/>"
      ],
      "text/plain": [
       "<IPython.core.display.Image object>"
      ]
     },
     "metadata": {},
     "output_type": "display_data"
    },
    {
     "data": {
      "text/html": [
       "<img src=\"https://drive.google.com/uc?export=download&id=1Pg10vdyIUZ4YWAEoxlodNci-EAZrQLZn\"/>"
      ],
      "text/plain": [
       "<IPython.core.display.Image object>"
      ]
     },
     "metadata": {},
     "output_type": "display_data"
    },
    {
     "data": {
      "text/html": [
       "<img src=\"https://drive.google.com/uc?export=download&id=1UZCBh1ecH7_1FET4rfyLBuvrfvmXrX2e\"/>"
      ],
      "text/plain": [
       "<IPython.core.display.Image object>"
      ]
     },
     "metadata": {},
     "output_type": "display_data"
    },
    {
     "data": {
      "text/html": [
       "<img src=\"https://drive.google.com/uc?export=download&id=1QZwnO29sjPlMeeNqDoeS2az3t3Tvb-Yn\"/>"
      ],
      "text/plain": [
       "<IPython.core.display.Image object>"
      ]
     },
     "metadata": {},
     "output_type": "display_data"
    }
   ],
   "source": [
    "from IPython.display import Image, display\n",
    "\n",
    "display(Image(url='https://drive.google.com/uc?export=download&id=1WiEvu6AhyYeE7uJvpcANCHQ8jqHoXpwi'))\n",
    "display(Image(url='https://drive.google.com/uc?export=download&id=1Pg10vdyIUZ4YWAEoxlodNci-EAZrQLZn'))\n",
    "display(Image(url='https://drive.google.com/uc?export=download&id=1UZCBh1ecH7_1FET4rfyLBuvrfvmXrX2e'))\n",
    "display(Image(url='https://drive.google.com/uc?export=download&id=1QZwnO29sjPlMeeNqDoeS2az3t3Tvb-Yn'))"
   ]
  },
  {
   "cell_type": "markdown",
   "metadata": {},
   "source": [
    "Trường hợp 8 điểm bị bị break point do không thể tạo được 4 vùng +."
   ]
  },
  {
   "cell_type": "code",
   "execution_count": 6,
   "metadata": {},
   "outputs": [
    {
     "data": {
      "text/html": [
       "<img src=\"https://drive.google.com/uc?export=download&id=1wvB0CsJXC15FOy4fBJVnhARcftrdFoDV\"/>"
      ],
      "text/plain": [
       "<IPython.core.display.Image object>"
      ]
     },
     "metadata": {},
     "output_type": "display_data"
    }
   ],
   "source": [
    "display(Image(url='https://drive.google.com/uc?export=download&id=1wvB0CsJXC15FOy4fBJVnhARcftrdFoDV'))"
   ]
  },
  {
   "cell_type": "markdown",
   "metadata": {
    "deletable": false,
    "nbgrader": {
     "cell_type": "markdown",
     "checksum": "e814a2db0b8a53e4fddfee4bcbf405fc",
     "grade": true,
     "grade_id": "c9",
     "locked": false,
     "points": 1,
     "schema_version": 3,
     "solution": true,
     "task": false
    }
   },
   "source": [
    "YOUR ANSWER HERE\n",
    "- Do đó em chọn đáp án [d]"
   ]
  },
  {
   "cell_type": "markdown",
   "metadata": {},
   "source": [
    "## Câu 10 (1 điểm)"
   ]
  },
  {
   "cell_type": "markdown",
   "metadata": {},
   "source": [
    "Ta xem tâm của 2 đường tròn đồng tâm là gốc tọa độ, với a là bán kính của đường tròn nằm trong và b là bán kính của đường tròn bên ngoài. Với 1 điểm bất kì được xác định bởi $x_1$ và $x_2$ và khoảng cách đến tâm là $\\sqrt{x_1^2 + x_2^2}$ => ta biến đổi từ không gian $R^2$ về không gian R. \n",
    "\n",
    "Để đơn giản ta gọi $c_i$ là khoảng cách đến tâm của mẫu thứ i. Lúc này ta xét các điểm dữ liệu nằm trên 1 đường thẳng đi qua tâm đường tròn. Và nếu điểm thứ i có $c_i$ nằm trong khoảng $ a \\leq c_i \\leq b $ thì mang giá trị +1 và ngược lại. Lúc này ta có N+1 khoảng, trong đó chọn ra 2 khoảng tương ứng với bán kính đường tròn trong và bán kính đường tròn ngoài. Tương ứng số cách chọn là $C_{N+1}^2$ và cộng thêm 1 cho trường hợp a == b, khi đó các điểm sẽ toàn màu đỏ với giá trị là -1\n"
   ]
  },
  {
   "cell_type": "code",
   "execution_count": 7,
   "metadata": {},
   "outputs": [
    {
     "data": {
      "text/html": [
       "<img src=\"https://drive.google.com/uc?export=download&id=1I-qsTt79ykKgtuUlzkhuND4JR_gxEKWG\"/>"
      ],
      "text/plain": [
       "<IPython.core.display.Image object>"
      ]
     },
     "metadata": {},
     "output_type": "display_data"
    }
   ],
   "source": [
    "display(Image(url='https://drive.google.com/uc?export=download&id=1I-qsTt79ykKgtuUlzkhuND4JR_gxEKWG'))"
   ]
  },
  {
   "cell_type": "markdown",
   "metadata": {
    "deletable": false,
    "nbgrader": {
     "cell_type": "markdown",
     "checksum": "41cbf5c6d2b94eeae0a712be2181fef6",
     "grade": true,
     "grade_id": "c10",
     "locked": false,
     "points": 1,
     "schema_version": 3,
     "solution": true,
     "task": false
    }
   },
   "source": [
    "YOUR ANSWER HERE\n",
    "- Do đó em chọn đáp án [b]"
   ]
  }
 ],
 "metadata": {
  "kernelspec": {
   "display_name": "Python 3",
   "language": "python",
   "name": "python3"
  },
  "language_info": {
   "codemirror_mode": {
    "name": "ipython",
    "version": 3
   },
   "file_extension": ".py",
   "mimetype": "text/x-python",
   "name": "python",
   "nbconvert_exporter": "python",
   "pygments_lexer": "ipython3",
   "version": "3.7.6"
  },
  "toc": {
   "base_numbering": 1,
   "nav_menu": {},
   "number_sections": true,
   "sideBar": true,
   "skip_h1_title": false,
   "title_cell": "Table of Contents",
   "title_sidebar": "Contents",
   "toc_cell": false,
   "toc_position": {},
   "toc_section_display": true,
   "toc_window_display": false
  },
  "varInspector": {
   "cols": {
    "lenName": 16,
    "lenType": 16,
    "lenVar": 40
   },
   "kernels_config": {
    "python": {
     "delete_cmd_postfix": "",
     "delete_cmd_prefix": "del ",
     "library": "var_list.py",
     "varRefreshCmd": "print(var_dic_list())"
    },
    "r": {
     "delete_cmd_postfix": ") ",
     "delete_cmd_prefix": "rm(",
     "library": "var_list.r",
     "varRefreshCmd": "cat(var_dic_list()) "
    }
   },
   "types_to_exclude": [
    "module",
    "function",
    "builtin_function_or_method",
    "instance",
    "_Feature"
   ],
   "window_display": false
  }
 },
 "nbformat": 4,
 "nbformat_minor": 4
}
