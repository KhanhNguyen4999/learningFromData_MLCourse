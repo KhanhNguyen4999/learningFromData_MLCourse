{
 "cells": [
  {
   "cell_type": "markdown",
   "metadata": {},
   "source": [
    "# Bài tập 4\n",
    "\n",
    "Nguyễn Ngọc Minh Khánh - 1712525\n"
   ]
  },
  {
   "cell_type": "code",
   "execution_count": 1,
   "metadata": {},
   "outputs": [],
   "source": [
    "import numpy as np"
   ]
  },
  {
   "cell_type": "markdown",
   "metadata": {},
   "source": [
    "## Câu 1 (1 điểm)"
   ]
  },
  {
   "cell_type": "markdown",
   "metadata": {},
   "source": [
    "- Theo đề bài ta có $N > d_{VC}$ thì $m_\\mathcal{H}(N) \\approx N^{d_{VC}}$\n",
    "- $\\delta = 0.05$,  $\\epsilon = 0.05$\n",
    " => giải phương trình: $\\epsilon = \\sqrt{\\frac{8}{N} ln \\frac{4m_\\mathcal{H}(2N)}{\\delta} } $, tìm được N $\\approx$ 453000"
   ]
  },
  {
   "cell_type": "markdown",
   "metadata": {
    "deletable": false,
    "nbgrader": {
     "cell_type": "markdown",
     "checksum": "2e83d862b3c5fd4fb57d72c50e8115f8",
     "grade": true,
     "grade_id": "c1",
     "locked": false,
     "points": 1,
     "schema_version": 3,
     "solution": true,
     "task": false
    }
   },
   "source": [
    "YOUR ANSWER HERE\n",
    "- Do đó em chọn câu [d]"
   ]
  },
  {
   "cell_type": "markdown",
   "metadata": {},
   "source": [
    "## Câu 2 (1 điểm)"
   ]
  },
  {
   "cell_type": "markdown",
   "metadata": {},
   "source": [
    "Theo đề bài ta có N = 10000,  $\\delta = 0.05, d_{VC} = 50\n",
    "\n",
    "- Câu a) $ \\epsilon \\approx 0.63217 $\n",
    "\n",
    "- Câu b) $ \\epsilon \\approx 0.33130 $\n",
    "\n",
    "- Câu c) $ \\epsilon \\approx 0.2237 $\n",
    "\n",
    "- Câu d) $ \\epsilon \\approx 0.21523 $"
   ]
  },
  {
   "cell_type": "code",
   "execution_count": 2,
   "metadata": {},
   "outputs": [],
   "source": [
    "N = 10000\n",
    "delta = 0.05\n",
    "d_vc = 50"
   ]
  },
  {
   "cell_type": "code",
   "execution_count": 3,
   "metadata": {},
   "outputs": [
    {
     "name": "stdout",
     "output_type": "stream",
     "text": [
      "e_a = 0.63217\n",
      "e_b = 0.33131\n",
      "Sau quá trình giải bằng máy casio ta có, e_c = 0.22370 \n",
      "Sau quá trình giải bằng máy casio ta có, e_d = 0.21523 \n"
     ]
    }
   ],
   "source": [
    "e_a = np.sqrt(8/N * np.log(4*(2*N)**d_vc / delta))\n",
    "e_b = np.sqrt(2*np.log(2.0*N*(N**d_vc))/N) + np.sqrt(2/N * np.log(1/delta)) + 1/N\n",
    "print(\"e_a = {:.5f}\".format(e_a))\n",
    "print(\"e_b = {:.5f}\".format(e_b))\n",
    "print(\"Sau quá trình giải bằng máy casio ta có, e_c = {:.5f} \".format(0.2237))\n",
    "print(\"Sau quá trình giải bằng máy casio ta có, e_d = {:.5f} \".format(0.21523))"
   ]
  },
  {
   "cell_type": "markdown",
   "metadata": {
    "deletable": false,
    "nbgrader": {
     "cell_type": "markdown",
     "checksum": "47d4e2bb3e4812ef7b37e032a898cfec",
     "grade": true,
     "grade_id": "c2",
     "locked": false,
     "points": 1,
     "schema_version": 3,
     "solution": true,
     "task": false
    }
   },
   "source": [
    "YOUR ANSWER HERE\n",
    "- Do đó em chọn câu [d]"
   ]
  },
  {
   "cell_type": "markdown",
   "metadata": {},
   "source": [
    "## Câu 3 (1 điểm)"
   ]
  },
  {
   "cell_type": "markdown",
   "metadata": {},
   "source": [
    "Theo đề bài ta có N = 10000,  $\\delta = 0.05, d_{VC} = 50\n",
    "\n",
    "- Câu a) $ \\epsilon \\approx 0.63217 $\n",
    "- Câu b) $ \\epsilon \\approx 0.33130 $"
   ]
  },
  {
   "cell_type": "code",
   "execution_count": 4,
   "metadata": {},
   "outputs": [
    {
     "name": "stdout",
     "output_type": "stream",
     "text": [
      "e_a = 13.82816\n",
      "e_b = 7.04878\n",
      "Sau quá trình giải bằng máy casio ta có, e_c = 5.10306 \n",
      "Sau quá trình giải bằng máy casio ta có, e_d = 5.59271 \n"
     ]
    }
   ],
   "source": [
    "N = 5\n",
    "e_a = np.sqrt(8/N * np.log(4*(2*N)**d_vc / delta))\n",
    "e_b = np.sqrt(2*np.log(2.0*N*(N**d_vc))/N) + np.sqrt(2/N * np.log(1/delta)) + 1/N\n",
    "print(\"e_a = {:.5f}\".format(e_a))\n",
    "print(\"e_b = {:.5f}\".format(e_b))\n",
    "print(\"Sau quá trình giải bằng máy casio ta có, e_c = {:.5f} \".format(5.10306))\n",
    "print(\"Sau quá trình giải bằng máy casio ta có, e_d = {:.5f} \".format(5.59271))\n"
   ]
  },
  {
   "cell_type": "markdown",
   "metadata": {
    "deletable": false,
    "nbgrader": {
     "cell_type": "markdown",
     "checksum": "0997a909d9ab1f250c2bfd0645fee970",
     "grade": true,
     "grade_id": "c3",
     "locked": false,
     "points": 1,
     "schema_version": 3,
     "solution": true,
     "task": false
    }
   },
   "source": [
    "YOUR ANSWER HERE\n",
    "- Do đó em chọn câu [c]"
   ]
  },
  {
   "cell_type": "markdown",
   "metadata": {},
   "source": [
    "## Câu 4 (1 điểm)"
   ]
  },
  {
   "cell_type": "code",
   "execution_count": 5,
   "metadata": {},
   "outputs": [],
   "source": [
    "def generate_dataset(N):\n",
    "    X = np.random.uniform(-1, 1, (N, 1))\n",
    "    Y = np.sin(np.pi * X)\n",
    "    return X, Y"
   ]
  },
  {
   "cell_type": "code",
   "execution_count": 6,
   "metadata": {},
   "outputs": [
    {
     "name": "stdout",
     "output_type": "stream",
     "text": [
      "[[-0.42888996]\n",
      " [-0.38319969]]\n",
      "[[-0.9751501 ]\n",
      " [-0.93342989]]\n"
     ]
    }
   ],
   "source": [
    "X, Y = generate_dataset(2)\n",
    "print(X)\n",
    "print(Y)"
   ]
  },
  {
   "cell_type": "code",
   "execution_count": 7,
   "metadata": {},
   "outputs": [
    {
     "data": {
      "text/plain": [
       "[<matplotlib.lines.Line2D at 0x21a8f138ec8>]"
      ]
     },
     "execution_count": 7,
     "metadata": {},
     "output_type": "execute_result"
    },
    {
     "data": {
      "image/png": "[encoded data removed]",
      "text/plain": [
       "<Figure size 576x396 with 1 Axes>"
      ]
     },
     "metadata": {},
     "output_type": "display_data"
    }
   ],
   "source": [
    "%matplotlib inline\n",
    "import matplotlib.pyplot as plt\n",
    "plt.style.use(\"seaborn\")\n",
    "\n",
    "xx = np.arange(-1, 1, 0.01).reshape(-1, 1)\n",
    "yy = np.sin(np.pi*xx)\n",
    "plt.plot(xx, yy, color = 'black')\n",
    "plt.plot(X, Y, 'o', color = \"blue\")"
   ]
  },
  {
   "cell_type": "code",
   "execution_count": 8,
   "metadata": {},
   "outputs": [
    {
     "name": "stdout",
     "output_type": "stream",
     "text": [
      "[[1.43117958]]\n"
     ]
    }
   ],
   "source": [
    "N = 10000\n",
    "avg = 0.0\n",
    "for i in range(N):\n",
    "    X, Y = generate_dataset(2)\n",
    "    w = np.linalg.pinv(X)@Y\n",
    "    avg += w/N\n",
    "print(avg)"
   ]
  },
  {
   "cell_type": "markdown",
   "metadata": {
    "deletable": false,
    "nbgrader": {
     "cell_type": "markdown",
     "checksum": "efabab5c4035a6864ac8cb3e0061c6f0",
     "grade": true,
     "grade_id": "c4",
     "locked": false,
     "points": 1,
     "schema_version": 3,
     "solution": true,
     "task": false
    }
   },
   "source": [
    "YOUR ANSWER HERE\n",
    "- Do không có giá trị nào chính xác nên em chọn đáp án [e]"
   ]
  },
  {
   "cell_type": "markdown",
   "metadata": {},
   "source": [
    "## Câu 5 (1 điểm)"
   ]
  },
  {
   "cell_type": "code",
   "execution_count": 9,
   "metadata": {},
   "outputs": [
    {
     "name": "stdout",
     "output_type": "stream",
     "text": [
      "[[0.27345273]]\n"
     ]
    }
   ],
   "source": [
    "w_gTB = avg # lưu lại trọng số của g trung bình\n",
    "N = 10000\n",
    "avg = 0.0\n",
    "for i in range(N):\n",
    "    X = np.random.uniform(-1,1)\n",
    "    g_x = w_gTB*X\n",
    "    f_x = np.sin(np.pi*X)\n",
    "    bias = (g_x - f_x)**2\n",
    "    avg+=bias/N\n",
    "\n",
    "print(avg)\n",
    "    "
   ]
  },
  {
   "cell_type": "markdown",
   "metadata": {
    "deletable": false,
    "nbgrader": {
     "cell_type": "markdown",
     "checksum": "0b484b8390bec96142e8a1213ee8cd2c",
     "grade": true,
     "grade_id": "c5",
     "locked": false,
     "points": 1,
     "schema_version": 3,
     "solution": true,
     "task": false
    }
   },
   "source": [
    "YOUR ANSWER HERE\n",
    "- Do đó em chọn đáp án [b]"
   ]
  },
  {
   "cell_type": "markdown",
   "metadata": {},
   "source": [
    "## Câu 6 (1 điểm)"
   ]
  },
  {
   "cell_type": "code",
   "execution_count": 10,
   "metadata": {},
   "outputs": [
    {
     "name": "stdout",
     "output_type": "stream",
     "text": [
      "0.23543288508589322\n"
     ]
    }
   ],
   "source": [
    "N = 10000\n",
    "avg = 0.0\n",
    "for i in range(N):\n",
    "    X, Y = generate_dataset(2)\n",
    "    w_x = np.linalg.inv(X.T@X)@X.T@Y\n",
    "    X_test = np.random.uniform(-1,1, (1000, 1))\n",
    "    var = np.mean((w_x*X_test - w_gTB*X_test)**2)\n",
    "    avg+=var/N\n",
    "    \n",
    "print(avg)\n",
    "    "
   ]
  },
  {
   "cell_type": "markdown",
   "metadata": {
    "deletable": false,
    "nbgrader": {
     "cell_type": "markdown",
     "checksum": "26f542221236fb24d0ddbee584eed7d0",
     "grade": true,
     "grade_id": "c6",
     "locked": false,
     "points": 1,
     "schema_version": 3,
     "solution": true,
     "task": false
    }
   },
   "source": [
    "YOUR ANSWER HERE\n",
    "- Do đó em chọn câu [a]"
   ]
  },
  {
   "cell_type": "markdown",
   "metadata": {},
   "source": [
    "## Câu 7 (1 điểm)"
   ]
  },
  {
   "cell_type": "code",
   "execution_count": 11,
   "metadata": {},
   "outputs": [],
   "source": [
    "def E_out_of_H(h):\n",
    "    w_g = []\n",
    "    N = 10000\n",
    "    N_sample_test = 10000\n",
    "    if h==1:\n",
    "        for i in range(N):\n",
    "            X, Y = generate_dataset(2)\n",
    "            w = np.linalg.pinv(X)@Y\n",
    "            w_g.append(w)\n",
    "            \n",
    "        w_gTB = np.mean(w_g, axis = 0)\n",
    "        # Tạo dữ liệu kiểm tra\n",
    "        X_test = np.random.uniform(-1, 1, (N_sample_test, 1))\n",
    "        f = np.sin(np.pi*X_test)\n",
    "        #tính bias\n",
    "        bias = np.mean((w_gTB - f)**2)\n",
    "        #tính var\n",
    "        var = np.mean((w_g - w_gTB)**2) \n",
    "        return bias + var\n",
    "    \n",
    "    if h==2:\n",
    "        for i in range(N):\n",
    "            X, Y = generate_dataset(2)\n",
    "            w = np.linalg.pinv(X)@Y\n",
    "            w_g.append(w)\n",
    "        # Tạo dữ liệu kiểm tra\n",
    "        X_test = np.random.uniform(-1, 1, (N_sample_test, 1))\n",
    "        f = np.sin(np.pi*X_test)\n",
    "            \n",
    "    if h==3:\n",
    "        for i in range(N):\n",
    "            X, Y = generate_dataset(2)\n",
    "            X = np.hstack((np.ones((2,1)), X))\n",
    "            w = np.linalg.pinv(X)@Y\n",
    "            w_g.append(w)\n",
    "        #Tạo dữ liệu kiểm tra\n",
    "        X_test = np.random.uniform(-1, 1, (N_sample_test, 1))\n",
    "        f = np.sin(np.pi*X_test)\n",
    "        X_test = np.hstack((np.ones((N_sample_test, 1)),X_test))\n",
    "            \n",
    "    if h==4:\n",
    "        for i in range(N):\n",
    "            X, Y = generate_dataset(2)\n",
    "            X = X**2\n",
    "            w = np.linalg.pinv(X)@Y\n",
    "            w_g.append(w)\n",
    "        #Tạo dữ liệu kiểm tra\n",
    "        X_test = np.random.uniform(-1, 1, (N_sample_test, 1))\n",
    "        f = np.sin(np.pi*X_test)\n",
    "        X_test = X_test**2\n",
    "            \n",
    "    if h==5:\n",
    "        for i in range(N):\n",
    "            X, Y = generate_dataset(2)\n",
    "            X = np.hstack((np.ones((2,1)), X**2))\n",
    "            w = np.linalg.pinv(X)@Y\n",
    "            w_g.append(w)\n",
    "        #Tạo dữ liệu kiểm tra\n",
    "        X_test = np.random.uniform(-1, 1, (N_sample_test, 1))\n",
    "        f = np.sin(np.pi*X_test)\n",
    "        X_test = np.hstack((np.ones((N_sample_test,1)), X_test**2))\n",
    "        \n",
    "    w_gTB = np.mean(w_g, axis = 0)\n",
    "    # Tính bias\n",
    "    g_avg = X_test @ w_gTB\n",
    "    bias = np.mean((g_avg-f)**2)\n",
    "    #Tính var    # Cách tính này đang tính ED[Ex[]]\n",
    "    var = 0\n",
    "    for w in w_g:\n",
    "        g = X_test @ w\n",
    "        var_g = np.mean((g-g_avg)**2)\n",
    "        var+=var_g/N\n",
    "        \n",
    "    return bias + var"
   ]
  },
  {
   "cell_type": "code",
   "execution_count": 12,
   "metadata": {},
   "outputs": [
    {
     "name": "stdout",
     "output_type": "stream",
     "text": [
      "Độ lỗi ngoài mẫu của giả thuyết h(x) = b: 3.2136\n",
      "Độ lỗi ngoài mẫu của giả thuyết h(x) = ax: 0.4955\n",
      "Độ lỗi ngoài mẫu của giả thuyết h(x) = ax+b: 1.9081\n",
      "Độ lỗi ngoài mẫu của giả thuyết h(x) = ax^2:14.8013\n",
      "Độ lỗi ngoài mẫu của giả thuyết h(x) = ax^2+b: 15805.3553\n"
     ]
    }
   ],
   "source": [
    "print(\"Độ lỗi ngoài mẫu của giả thuyết h(x) = b: {:.4f}\".format(E_out_of_H(1)))\n",
    "print(\"Độ lỗi ngoài mẫu của giả thuyết h(x) = ax: {:.4f}\".format(E_out_of_H(2)))\n",
    "print(\"Độ lỗi ngoài mẫu của giả thuyết h(x) = ax+b: {:.4f}\".format(E_out_of_H(3)))\n",
    "print(\"Độ lỗi ngoài mẫu của giả thuyết h(x) = ax^2:{:.4f}\".format( E_out_of_H(4)))\n",
    "print(\"Độ lỗi ngoài mẫu của giả thuyết h(x) = ax^2+b: {:.4f}\".format( E_out_of_H(5)))"
   ]
  },
  {
   "cell_type": "markdown",
   "metadata": {
    "deletable": false,
    "nbgrader": {
     "cell_type": "markdown",
     "checksum": "322a244b0fae3a20ec568a5099aaaec1",
     "grade": true,
     "grade_id": "c7",
     "locked": false,
     "points": 1,
     "schema_version": 3,
     "solution": true,
     "task": false
    }
   },
   "source": [
    "YOUR ANSWER HERE\n",
    "- Do đó em chọn đáp án [b]"
   ]
  },
  {
   "cell_type": "markdown",
   "metadata": {},
   "source": [
    "## Câu 8 (1 điểm)"
   ]
  },
  {
   "cell_type": "markdown",
   "metadata": {},
   "source": [
    "Theo đề bài:\n",
    "- $m_\\mathcal{H}(1)=2$.\n",
    "- $m_\\mathcal{H}(N+1) = 2m_\\mathcal{H}(N) - \\binom{N}{q}$ với $q$ là một số nguyên cố định $\\ge1$. Để dễ nhìn hơn, ta có thể viết lại công thức này như sau: $m_\\mathcal{H}(N) = 2m_\\mathcal{H}(N-1) - \\binom{N-1}{q}$."
   ]
  },
  {
   "cell_type": "markdown",
   "metadata": {},
   "source": [
    "- Cho $N$ tăng dần ( $N = 1, 2, 3, ...)$. Ta rút ra nhận xét $m_\\mathcal{H}(N)$ bị break ( sớm nhất ) khi $q = N-1$ hay nói cách khác là $m_\\mathcal{H}(N) $ vẫn tạo đủ $ 2^N $ dichotomies khi $q>N-1 \\approx q>=N$\n",
    "- VD: Với $q = 1$ => $m_\\mathcal{H}{2} = 3$, bị break do không tạo đủ $2^2$ dichotomies => $d_{VC} = 1 = q$ \n",
    "\n",
    "=> $d_{VC}$ phụ thuộc vào q và = q "
   ]
  },
  {
   "cell_type": "markdown",
   "metadata": {
    "deletable": false,
    "nbgrader": {
     "cell_type": "markdown",
     "checksum": "d81773f072cd15e4a27b6cd240a5d990",
     "grade": true,
     "grade_id": "c8",
     "locked": false,
     "points": 1,
     "schema_version": 3,
     "solution": true,
     "task": false
    }
   },
   "source": [
    "YOUR ANSWER HERE\n",
    "- Do đó em chọn đáp án [c]"
   ]
  },
  {
   "cell_type": "markdown",
   "metadata": {},
   "source": [
    "## Câu 9 (1 điểm)"
   ]
  },
  {
   "cell_type": "markdown",
   "metadata": {},
   "source": [
    "Với câu 9, ta cần phải xác định được chặn trên và chặn dưới $d_{vc}$ của phép giao giữa các tập giả thuyết $\\mathcal{H_1}, \\mathcal{H_2}, \\mathcal{H_3}, ..., \\mathcal{H_k}$\n",
    "- Chặn dưới: như đề bài cho với $d_{vc}$ thuộc về 1 tập rỗng có giá trị là 0  => đây cũng là chặn dưới\n",
    "- Chặn trên: là bậc $d_{vc}$ nhỏ nhất trong tập các giả thuyết ( là giá trị N mà mọi tập giả thuyết đều có đủ $2^N$ dichotomies ). Đây là chặn trên chặt nhất trong các đáp án đúng là a, b, c ( các đáp án sai là d, e )\n"
   ]
  },
  {
   "cell_type": "markdown",
   "metadata": {
    "deletable": false,
    "nbgrader": {
     "cell_type": "markdown",
     "checksum": "e814a2db0b8a53e4fddfee4bcbf405fc",
     "grade": true,
     "grade_id": "c9",
     "locked": false,
     "points": 1,
     "schema_version": 3,
     "solution": true,
     "task": false
    }
   },
   "source": [
    "YOUR ANSWER HERE\n",
    "- Do đó em chọn đáp án [b]"
   ]
  },
  {
   "cell_type": "markdown",
   "metadata": {},
   "source": [
    "## Câu 10 (1 điểm)"
   ]
  },
  {
   "cell_type": "markdown",
   "metadata": {},
   "source": [
    "Với câu 10, ta cũng phải tìm được chặn trên và chặn dưới $d_{vc}$ của phép hợp giữa các tập giả thuyết $\\mathcal{H_1}, \\mathcal{H_2}, \\mathcal{H_3}, ..., \\mathcal{H_k}$\n",
    "- Chặn dưới: là trường hợp mà các không gian giả thuyết chồng lấp lên nhau, và bậc d_vc lớn nhất ứng với giả thuyết $\\mathcall{H} là tập bao các giả thuyết còn lại.\n",
    "- Chặn trên: em không biết làm."
   ]
  },
  {
   "cell_type": "markdown",
   "metadata": {
    "deletable": false,
    "nbgrader": {
     "cell_type": "markdown",
     "checksum": "41cbf5c6d2b94eeae0a712be2181fef6",
     "grade": true,
     "grade_id": "c10",
     "locked": false,
     "points": 1,
     "schema_version": 3,
     "solution": true,
     "task": false
    }
   },
   "source": [
    "YOUR ANSWER HERE\n",
    "- Do đó em chọn đáp án [e]"
   ]
  },
  {
   "cell_type": "code",
   "execution_count": null,
   "metadata": {},
   "outputs": [],
   "source": []
  }
 ],
 "metadata": {
  "kernelspec": {
   "display_name": "Python 3",
   "language": "python",
   "name": "python3"
  },
  "language_info": {
   "codemirror_mode": {
    "name": "ipython",
    "version": 3
   },
   "file_extension": ".py",
   "mimetype": "text/x-python",
   "name": "python",
   "nbconvert_exporter": "python",
   "pygments_lexer": "ipython3",
   "version": "3.7.6"
  },
  "toc": {
   "base_numbering": 1,
   "nav_menu": {},
   "number_sections": true,
   "sideBar": true,
   "skip_h1_title": false,
   "title_cell": "Table of Contents",
   "title_sidebar": "Contents",
   "toc_cell": false,
   "toc_position": {},
   "toc_section_display": true,
   "toc_window_display": false
  },
  "varInspector": {
   "cols": {
    "lenName": 16,
    "lenType": 16,
    "lenVar": 40
   },
   "kernels_config": {
    "python": {
     "delete_cmd_postfix": "",
     "delete_cmd_prefix": "del ",
     "library": "var_list.py",
     "varRefreshCmd": "print(var_dic_list())"
    },
    "r": {
     "delete_cmd_postfix": ") ",
     "delete_cmd_prefix": "rm(",
     "library": "var_list.r",
     "varRefreshCmd": "cat(var_dic_list()) "
    }
   },
   "types_to_exclude": [
    "module",
    "function",
    "builtin_function_or_method",
    "instance",
    "_Feature"
   ],
   "window_display": false
  }
 },
 "nbformat": 4,
 "nbformat_minor": 4
}
